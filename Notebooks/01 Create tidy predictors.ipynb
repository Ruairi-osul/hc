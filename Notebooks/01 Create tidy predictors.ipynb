{
 "cells": [
  {
   "cell_type": "code",
   "execution_count": 4,
   "metadata": {},
   "outputs": [],
   "source": [
    "from pathlib import Path\n",
    "import pandas as pd\n",
    "from functools import reduce\n",
    "import numpy as np\n",
    "from datetime import datetime\n",
    "import secrets"
   ]
  },
  {
   "cell_type": "code",
   "execution_count": 5,
   "metadata": {},
   "outputs": [],
   "source": [
    "data_dir = Path(\".\").absolute().parent / \"data\""
   ]
  },
  {
   "cell_type": "code",
   "execution_count": 6,
   "metadata": {},
   "outputs": [],
   "source": [
    "group_names = [\"A\", \"B\", \"C\", \"D\"]\n",
    "behaviours = [\n",
    "    \"drink\",\n",
    "    \"eat\",\n",
    "    \"eathand\",\n",
    "    \"groom\",\n",
    "    \"hang\",\n",
    "    \"rear\",\n",
    "    \"rest\",\n",
    "    \"sniff\",\n",
    "    \"walk\"\n",
    "]"
   ]
  },
  {
   "cell_type": "code",
   "execution_count": 7,
   "metadata": {},
   "outputs": [],
   "source": [
    "def load_data(data_dir, group_name, behaviour):\n",
    "    return (\n",
    "        pd.read_csv(data_dir / \"raw\" / f\"FC_{group_name}_{behaviour}.csv\")\n",
    "        .rename(columns={\"Unnamed: 0\": \"mouse_id\"})\n",
    "    )\n",
    "\n",
    "def tidy_data(df, group_name, behaviour):\n",
    "    return (\n",
    "        df\n",
    "        .replace(\"No video\", np.nan)\n",
    "        .melt(id_vars=\"mouse_id\", var_name=\"time\", value_name=behaviour)\n",
    "        .assign(\n",
    "            month= lambda x: x.time.str.extract(\"(.{2})M\"),\n",
    "            day= lambda x: x.time.str.extract(\"(.{2})D\"),\n",
    "            hour= lambda x: x.time.str.extract(\"(.{2})h\"),\n",
    "            group= group_name,\n",
    "            dt = lambda x: x.apply(lambda r: datetime(year=2018, month=int(r.month), day=int(r.day), hour=int(r.hour)),\n",
    "                                   axis=1)\n",
    "        )\n",
    "        .drop(\"time\", axis=1)\n",
    "    )\n",
    "\n",
    "def get_mid_mapper(mids):\n",
    "    return {original: secrets.token_hex(15) for original in mids}"
   ]
  },
  {
   "cell_type": "code",
   "execution_count": 12,
   "metadata": {},
   "outputs": [],
   "source": [
    "group = \"A\"\n",
    "behaviour = \"drink\"\n",
    "\n",
    "frames = []\n",
    "mappers = []\n",
    "for group in group_names:\n",
    "    gframes = []\n",
    "    for behaviour in behaviours:\n",
    "        df = load_data(data_dir, group, behaviour)\n",
    "        df = tidy_data(df, group, behaviour)\n",
    "        gframes.append(df)\n",
    "    \n",
    "    df = reduce(lambda x, y: pd.merge(x, y, how=\"outer\"), gframes)\n",
    "    mapper = get_mid_mapper(df.mouse_id.unique())\n",
    "    df = df.assign(mouse_id = lambda x: x.mouse_id.map(mapper))\n",
    "    frames.append(df)\n",
    "    mappers.append(mapper)\n",
    "df = (\n",
    "    pd.concat(frames)\n",
    "    [[\"mouse_id\", \"group\", \"month\", \"day\", \"hour\", \"drink\", \"eat\", \n",
    "      \"eathand\", \"groom\", \"hang\", \"rear\", \"rest\", \"sniff\", \"walk\", \"dt\"]]\n",
    ")"
   ]
  },
  {
   "cell_type": "code",
   "execution_count": 13,
   "metadata": {},
   "outputs": [],
   "source": [
    "df = (\n",
    "    df\n",
    "    .assign(\n",
    "        first_day = lambda x: x.groupby(\"mouse_id\")[\"dt\"].transform(lambda x: np.min(x)),\n",
    "        experimental_day = lambda x: (x[\"dt\"] - x[\"first_day\"]).dt.days\n",
    "           )\n",
    "    .drop([\"month\", \"day\", \"hour\"], axis=1)\n",
    "    .assign(time_sinse_start=lambda x: x.groupby(\"mouse_id\")[\"dt\"].transform(lambda y: pd.to_datetime(y) - pd.to_datetime(y).min()))\n",
    "    [[\"mouse_id\", \"group\", \"dt\", \"experimental_day\", \"time_sinse_start\",\n",
    "     \"drink\", \"eat\", \"eathand\", \"groom\", \"hang\", \"rear\", \"rest\", \"sniff\", \"walk\"]]\n",
    "    \n",
    ")"
   ]
  },
  {
   "cell_type": "code",
   "execution_count": 14,
   "metadata": {},
   "outputs": [],
   "source": [
    "df.to_csv(data_dir / \"tidy.csv\", index=False)"
   ]
  },
  {
   "cell_type": "code",
   "execution_count": null,
   "metadata": {},
   "outputs": [],
   "source": []
  }
 ],
 "metadata": {
  "kernelspec": {
   "display_name": "Python 3",
   "language": "python",
   "name": "python3"
  },
  "language_info": {
   "codemirror_mode": {
    "name": "ipython",
    "version": 3
   },
   "file_extension": ".py",
   "mimetype": "text/x-python",
   "name": "python",
   "nbconvert_exporter": "python",
   "pygments_lexer": "ipython3",
   "version": "3.7.4"
  }
 },
 "nbformat": 4,
 "nbformat_minor": 4
}
